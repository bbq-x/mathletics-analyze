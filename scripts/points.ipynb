{
 "cells": [
  {
   "cell_type": "code",
   "execution_count": null,
   "id": "2bd9fc73",
   "metadata": {},
   "outputs": [
    {
     "name": "stdout",
     "output_type": "stream",
     "text": [
      "2023-24 Western\n",
      "                        wins  losses  win_%\n",
      "team_name                                  \n",
      "Denver Nuggets            64      30   0.68\n",
      "Oklahoma City Thunder     63      29   0.68\n",
      "Minnesota Timberwolves    65      33   0.66\n",
      "Dallas Mavericks          63      41   0.61\n",
      "Los Angeles Clippers      53      35   0.60\n",
      "Phoenix Suns              49      37   0.57\n",
      "New Orleans Pelicans      50      38   0.57\n",
      "Sacramento Kings          47      37   0.56\n",
      "Los Angeles Lakers        49      39   0.56\n",
      "Golden State Warriors     46      37   0.55\n",
      "Houston Rockets           41      41   0.50\n",
      "Utah Jazz                 31      51   0.38\n",
      "Memphis Grizzlies         27      55   0.33\n",
      "San Antonio Spurs         22      60   0.27\n",
      "Portland Trail Blazers    21      61   0.26 \n",
      "\n",
      "2023-24 Eastern\n",
      "                     wins  losses  win_%\n",
      "team_name                               \n",
      "Boston Celtics         80      21   0.79\n",
      "New York Knicks        57      38   0.60\n",
      "Milwaukee Bucks        51      37   0.58\n",
      "Orlando Magic          50      39   0.56\n",
      "Indiana Pacers         55      44   0.56\n",
      "Cleveland Cavaliers    53      41   0.56\n",
      "Philadelphia 76ers     50      39   0.56\n",
      "Miami Heat             48      41   0.54\n",
      "Chicago Bulls          40      44   0.48\n",
      "Atlanta Hawks          36      47   0.43\n",
      "Brooklyn Nets          32      50   0.39\n",
      "Toronto Raptors        25      57   0.30\n",
      "Charlotte Hornets      21      61   0.26\n",
      "Washington Wizards     15      67   0.18\n",
      "Detroit Pistons        14      68   0.17 \n",
      "\n"
     ]
    }
   ],
   "source": [
    "import os\n",
    "import sys\n",
    "\n",
    "app_dir = os.path.abspath(os.path.join(os.path.dirname(os.path.abspath(__name__)), \"../app\"))\n",
    "sys.path.append(app_dir)\n",
    "from utils import helpers as h\n",
    "\n",
    "h.record_builder(\"2024-25\")"
   ]
  },
  {
   "cell_type": "code",
   "execution_count": null,
   "id": "30bf6838",
   "metadata": {},
   "outputs": [],
   "source": []
  }
 ],
 "metadata": {
  "kernelspec": {
   "display_name": "Python 3",
   "language": "python",
   "name": "python3"
  },
  "language_info": {
   "codemirror_mode": {
    "name": "ipython",
    "version": 3
   },
   "file_extension": ".py",
   "mimetype": "text/x-python",
   "name": "python",
   "nbconvert_exporter": "python",
   "pygments_lexer": "ipython3",
   "version": "3.10.12"
  }
 },
 "nbformat": 4,
 "nbformat_minor": 5
}
